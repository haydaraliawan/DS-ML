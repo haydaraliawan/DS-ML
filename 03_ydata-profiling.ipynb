{
 "cells": [
  {
   "cell_type": "markdown",
   "metadata": {},
   "source": [
    "# Automatic EDA using `ydata-profiling`"
   ]
  },
  {
   "cell_type": "code",
   "execution_count": 4,
   "metadata": {},
   "outputs": [
    {
     "name": "stderr",
     "output_type": "stream",
     "text": [
      "c:\\Users\\hayda\\miniconda3\\envs\\ydata-profiling\\lib\\site-packages\\tqdm\\auto.py:21: TqdmWarning: IProgress not found. Please update jupyter and ipywidgets. See https://ipywidgets.readthedocs.io/en/stable/user_install.html\n",
      "  from .autonotebook import tqdm as notebook_tqdm\n"
     ]
    }
   ],
   "source": [
    "#import libraries\n",
    "import pandas as pd\n",
    "import seaborn as sns\n",
    "import ydata_profiling as yd"
   ]
  },
  {
   "cell_type": "code",
   "execution_count": 5,
   "metadata": {},
   "outputs": [],
   "source": [
    "df = sns.load_dataset('titanic')"
   ]
  },
  {
   "cell_type": "code",
   "execution_count": 7,
   "metadata": {},
   "outputs": [
    {
     "name": "stderr",
     "output_type": "stream",
     "text": [
      "Summarize dataset:   0%|          | 0/5 [00:00<?, ?it/s]"
     ]
    },
    {
     "name": "stderr",
     "output_type": "stream",
     "text": [
      "Summarize dataset: 100%|██████████| 41/41 [00:05<00:00,  7.05it/s, Completed]                    \n",
      "Generate report structure: 100%|██████████| 1/1 [00:07<00:00,  7.39s/it]\n",
      "Render HTML: 100%|██████████| 1/1 [00:01<00:00,  1.58s/it]\n",
      "Export report to file: 100%|██████████| 1/1 [00:00<00:00, 118.26it/s]\n"
     ]
    }
   ],
   "source": [
    "profile = yd.ProfileReport(df)\n",
    "profile.to_file(output_file=\"./outputs/03_ydata_titanic.html\")"
   ]
  },
  {
   "cell_type": "code",
   "execution_count": 8,
   "metadata": {},
   "outputs": [
    {
     "name": "stderr",
     "output_type": "stream",
     "text": [
      "Summarize dataset: 100%|██████████| 319/319 [01:07<00:00,  4.76it/s, Completed]                                                     \n",
      "Generate report structure: 100%|██████████| 1/1 [00:17<00:00, 17.15s/it]\n",
      "Render HTML: 100%|██████████| 1/1 [00:15<00:00, 15.21s/it]\n",
      "Export report to file: 100%|██████████| 1/1 [00:00<00:00,  7.39it/s]\n"
     ]
    }
   ],
   "source": [
    "#do the same thing for pakistan population\n",
    "df = pd.read_csv('./data/data.csv')\n",
    "profile = yd.ProfileReport(df)\n",
    "profile.to_file(output_file=\"./outputs/03_ydata_population.html\")"
   ]
  }
 ],
 "metadata": {
  "kernelspec": {
   "display_name": "ydata-profiling",
   "language": "python",
   "name": "python3"
  },
  "language_info": {
   "codemirror_mode": {
    "name": "ipython",
    "version": 3
   },
   "file_extension": ".py",
   "mimetype": "text/x-python",
   "name": "python",
   "nbconvert_exporter": "python",
   "pygments_lexer": "ipython3",
   "version": "3.10.13"
  }
 },
 "nbformat": 4,
 "nbformat_minor": 2
}
